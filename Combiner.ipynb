{
 "cells": [
  {
   "cell_type": "code",
   "execution_count": 1,
   "metadata": {},
   "outputs": [],
   "source": [
    "import json\n",
    "import numpy as np\n",
    "#from utils_data import ScienceQADatasetImg\n",
    "from model import T5ForMultimodalGeneration\n",
    "import torch\n",
    "from transformers import AutoTokenizer, DataCollatorForSeq2Seq, Seq2SeqTrainingArguments, Seq2SeqTrainer, T5ForConditionalGeneration\n",
    "from torch.utils.data import Dataset\n",
    "import evaluate\n",
    "import nltk"
   ]
  },
  {
   "cell_type": "code",
   "execution_count": 2,
   "metadata": {},
   "outputs": [
    {
     "name": "stderr",
     "output_type": "stream",
     "text": [
      "[nltk_data] Downloading package punkt to\n",
      "[nltk_data]     C:\\Users\\Shark\\AppData\\Roaming\\nltk_data...\n",
      "[nltk_data]   Package punkt is already up-to-date!\n"
     ]
    },
    {
     "data": {
      "text/plain": [
       "True"
      ]
     },
     "execution_count": 2,
     "metadata": {},
     "output_type": "execute_result"
    }
   ],
   "source": [
    "nltk.download('punkt')"
   ]
  },
  {
   "cell_type": "markdown",
   "metadata": {},
   "source": [
    "Map keys, add features, add captions"
   ]
  },
  {
   "cell_type": "code",
   "execution_count": 3,
   "metadata": {},
   "outputs": [],
   "source": [
    "problems = json.load(open(\"data/problems.json\"))\n",
    "name_maps = json.load(open(\"data/name_map.json\"))\n",
    "captions = json.load(open(\"data/instruct_captions.json\"))[\"captions\"]"
   ]
  },
  {
   "cell_type": "code",
   "execution_count": 4,
   "metadata": {},
   "outputs": [],
   "source": [
    "image_features = np.load(\"vision_features/vision_features/clip.npy\")"
   ]
  },
  {
   "cell_type": "code",
   "execution_count": 5,
   "metadata": {},
   "outputs": [
    {
     "data": {
      "text/plain": [
       "21208"
      ]
     },
     "execution_count": 5,
     "metadata": {},
     "output_type": "execute_result"
    }
   ],
   "source": [
    "len(problems)"
   ]
  },
  {
   "cell_type": "code",
   "execution_count": 6,
   "metadata": {},
   "outputs": [
    {
     "name": "stdout",
     "output_type": "stream",
     "text": [
      "10\n"
     ]
    },
    {
     "name": "stderr",
     "output_type": "stream",
     "text": [
      "C:\\Users\\Shark\\AppData\\Local\\Temp\\ipykernel_22076\\3005637819.py:7: FutureWarning: elementwise comparison failed; returning scalar instead, but in the future will perform elementwise comparison\n",
      "  if qid in image_features and str(qid) in name_maps:\n"
     ]
    }
   ],
   "source": [
    "idx=0\n",
    "problems_s = dict()\n",
    "for qid in problems:\n",
    "    idx+=1\n",
    "    problems_s[qid]=problems[qid]\n",
    "    problems_s[qid]['caption'] = captions[qid] if qid in captions else \"\"\n",
    "    if qid in image_features and str(qid) in name_maps:\n",
    "        problems_s[qid]['image_feature'] = image_features[int(name_maps[str(qid)])]\n",
    "    else:\n",
    "        problems_s[qid]['image_feature'] = np.zeros((49, 2048))\n",
    "    if idx%5 == 0:\n",
    "        print(10)\n",
    "        break"
   ]
  },
  {
   "cell_type": "code",
   "execution_count": 7,
   "metadata": {},
   "outputs": [],
   "source": [
    "def create_one_example(question, context, choice, solution, test_example=True, WithOutput = False, curr_le_data=None):\n",
    "\n",
    "    input = f\"Question: {question}\\nContext: {context}\\nOptions: {choice}\\n\"\n",
    "\n",
    "    # Outputs\n",
    "    output = f\"Solution: {solution}\"\n",
    "    \n",
    "    text = input + f'Solution:'\n",
    "    text = text.replace(\"  \", \" \").strip()\n",
    "    output = output.replace(\"  \", \" \").strip()\n",
    "    return text, output"
   ]
  },
  {
   "cell_type": "code",
   "execution_count": 8,
   "metadata": {},
   "outputs": [],
   "source": [
    "options=[\"A\",\"B\",\"C\",\"D\",\"E\"]\n",
    "target_texts = []\n",
    "source_texts = []\n",
    "image_ids = []\n",
    "for k in problems_s:\n",
    "    question = problems_s[k][\"question\"]\n",
    "\n",
    "    txt_context = problems_s[k]['hint']\n",
    "    img_context = problems_s[k]['caption']\n",
    "    context = \" \".join([txt_context, img_context]).strip()\n",
    "    if context == \"\":\n",
    "        context = \"N/A\"\n",
    "\n",
    "    choices = problems_s[k]['choices']\n",
    "    choice_list = []\n",
    "    for i, c in enumerate(problems_s[k]['choices']):\n",
    "        choice_list.append(\"({}) {}\".format(options[i], c))\n",
    "    choice_txt = \" \".join(choice_list)\n",
    "\n",
    "    solution = problems_s[k][\"solution\"]\n",
    "\n",
    "    image=problems_s[k][\"image_feature\"]\n",
    "    \n",
    "    prompt,target=create_one_example(question, context, choice_txt, solution)\n",
    "    \n",
    "    target_texts.append(target)\n",
    "    source_texts.append(prompt)\n",
    "    image_ids.append(image)"
   ]
  },
  {
   "cell_type": "code",
   "execution_count": 9,
   "metadata": {},
   "outputs": [],
   "source": [
    "#testings = ScienceQADatasetImg(problems_s, list(problems_s.keys()), name_maps, tokenizer, 512, 64)"
   ]
  },
  {
   "cell_type": "code",
   "execution_count": null,
   "metadata": {},
   "outputs": [],
   "source": []
  },
  {
   "cell_type": "code",
   "execution_count": 10,
   "metadata": {},
   "outputs": [],
   "source": [
    "tokenizer=AutoTokenizer.from_pretrained(\"models/mm-cot-large-rationale/\")\n",
    "datacollator = DataCollatorForSeq2Seq(tokenizer)"
   ]
  },
  {
   "cell_type": "code",
   "execution_count": 11,
   "metadata": {},
   "outputs": [],
   "source": [
    "class Data(Dataset):\n",
    "    def __init__(self, target_texts, source_texts, image_ids):\n",
    "        self.target_texts = target_texts\n",
    "        self.source_texts = source_texts\n",
    "        self.image_ids = image_ids\n",
    "    \n",
    "    def __getitem__(self,index):\n",
    "        image_id = self.image_ids[index]\n",
    "        target_text = str(self.target_texts[index])\n",
    "        source_text = str(self.source_texts[index])\n",
    "\n",
    "        source_text = \" \".join(source_text.split())\n",
    "        target_text = \" \".join(target_text.split())\n",
    "\n",
    "\n",
    "        source=tokenizer.batch_encode_plus([source_text],\n",
    "            max_length=512,\n",
    "            pad_to_max_length=True,\n",
    "            truncation=True,\n",
    "            padding=\"max_length\",\n",
    "            return_tensors=\"pt\",)\n",
    "\n",
    "        target=tokenizer.batch_encode_plus([target_text],\n",
    "            max_length=64,\n",
    "            pad_to_max_length=True,\n",
    "            truncation=True,\n",
    "            padding=\"max_length\",\n",
    "            return_tensors=\"pt\",)\n",
    "\n",
    "        source_ids = source[\"input_ids\"].squeeze()\n",
    "        source_mask = source[\"attention_mask\"].squeeze()\n",
    "        target_ids = target[\"input_ids\"].squeeze().tolist()\n",
    "\n",
    "        \n",
    "        return {\"input_ids\": source_ids,\n",
    "                \"attention_mask\": source_mask,\n",
    "                \"image_ids\": torch.tensor(image_id).squeeze(),\n",
    "                \"labels\": target_ids,}\n",
    "    \n",
    "    def __len__(self):\n",
    "        return len(self.target_texts)"
   ]
  },
  {
   "cell_type": "code",
   "execution_count": 12,
   "metadata": {},
   "outputs": [],
   "source": [
    "data=Data(target_texts,source_texts,image_ids)"
   ]
  },
  {
   "cell_type": "code",
   "execution_count": 13,
   "metadata": {},
   "outputs": [],
   "source": [
    "#for i in data[4][\"image_ids\"]:\n",
    "#    for j in i:\n",
    "#        if type(j)==float:\n",
    "#            print(j)"
   ]
  },
  {
   "cell_type": "code",
   "execution_count": 14,
   "metadata": {},
   "outputs": [],
   "source": [
    "#data[4][\"image_ids\"]"
   ]
  },
  {
   "cell_type": "code",
   "execution_count": 15,
   "metadata": {},
   "outputs": [],
   "source": [
    "#tokenizer.batch_decode(data[0][\"image_ids\"], skip_special_tokens=True, clean_up_tokenization_spaces=True)"
   ]
  },
  {
   "cell_type": "code",
   "execution_count": 16,
   "metadata": {},
   "outputs": [],
   "source": [
    "#data[1][\"input_ids\"]"
   ]
  },
  {
   "cell_type": "code",
   "execution_count": 17,
   "metadata": {},
   "outputs": [],
   "source": [
    "#utils_data.ScienceQADatasetImg(problems,\n",
    "#            train_qids,\n",
    "#            name_maps,\n",
    "#            tokenizer,\n",
    "#            512,\n",
    "#            64,\n",
    "#            args,\n",
    "#            image_features,\n",
    "#        )"
   ]
  },
  {
   "cell_type": "code",
   "execution_count": 18,
   "metadata": {},
   "outputs": [],
   "source": [
    "metric = evaluate.load(\"rouge\")\n",
    "def postprocess_text(preds, labels):\n",
    "    preds = [pred.strip() for pred in preds]\n",
    "    labels = [label.strip() for label in labels]\n",
    "    preds = [\"\\n\".join(nltk.sent_tokenize(pred)) for pred in preds]\n",
    "    labels = [\"\\n\".join(nltk.sent_tokenize(label)) for label in labels]\n",
    "    return preds, labels\n",
    "\n",
    "\n",
    "\n",
    "def compute_metrics_rougel(eval_preds):\n",
    "    preds, targets = eval_preds\n",
    "    if isinstance(preds, tuple):\n",
    "        preds = preds[0]\n",
    "    \n",
    "    #Preds gets padded with -100. tokenizer can't handle negative numbers, so they get replaced with 0\n",
    "    preds = np.where(preds != -100, preds, tokenizer.pad_token_id)\n",
    "    preds = tokenizer.batch_decode(preds, skip_special_tokens=True, clean_up_tokenization_spaces=True)\n",
    "    targets = tokenizer.batch_decode(targets, skip_special_tokens=True, clean_up_tokenization_spaces=True)\n",
    "\n",
    "    decoded_preds, decoded_labels = postprocess_text(preds, targets)\n",
    "\n",
    "    result = metric.compute(predictions=decoded_preds, references=decoded_labels, use_stemmer=True)\n",
    "    result = {k: round(v * 100, 4) for k, v in result.items()}\n",
    "    prediction_lens = [np.count_nonzero(pred != tokenizer.pad_token_id) for pred in preds]\n",
    "    result[\"gen_len\"] = np.mean(prediction_lens)\n",
    "    return result"
   ]
  },
  {
   "cell_type": "code",
   "execution_count": 19,
   "metadata": {},
   "outputs": [
    {
     "name": "stderr",
     "output_type": "stream",
     "text": [
      "c:\\users\\shark\\appdata\\local\\programs\\python\\python39\\lib\\site-packages\\transformers\\modeling_utils.py:463: FutureWarning: You are using `torch.load` with `weights_only=False` (the current default value), which uses the default pickle module implicitly. It is possible to construct malicious pickle data which will execute arbitrary code during unpickling (See https://github.com/pytorch/pytorch/blob/main/SECURITY.md#untrusted-models for more details). In a future release, the default value for `weights_only` will be flipped to `True`. This limits the functions that could be executed during unpickling. Arbitrary objects will no longer be allowed to be loaded via this mode unless they are explicitly allowlisted by the user via `torch.serialization.add_safe_globals`. We recommend you start setting `weights_only=True` for any use case where you don't have full control of the loaded file. Please open an issue on GitHub for any issues related to this experimental feature.\n",
      "  return torch.load(checkpoint_file, map_location=\"cpu\")\n",
      "Some weights of T5ForMultimodalGeneration were not initialized from the model checkpoint at models/mm-cot-large-rationale and are newly initialized because the shapes did not match:\n",
      "- encoder.image_dense.weight: found shape torch.Size([1024, 1024]) in the checkpoint and torch.Size([1024, 2048]) in the model instantiated\n",
      "You should probably TRAIN this model on a down-stream task to be able to use it for predictions and inference.\n"
     ]
    }
   ],
   "source": [
    "model=T5ForMultimodalGeneration.from_pretrained(\"models/mm-cot-large-rationale\",patch_size=(49, 2048), ignore_mismatched_sizes=True)"
   ]
  },
  {
   "cell_type": "code",
   "execution_count": 20,
   "metadata": {},
   "outputs": [],
   "source": [
    "training_args = Seq2SeqTrainingArguments(\n",
    "            \"Saving\",\n",
    "            do_train=False,\n",
    "            do_eval=False,\n",
    "            evaluation_strategy=\"no\",\n",
    "            logging_strategy=\"steps\",\n",
    "            save_strategy=\"epoch\",\n",
    "            save_total_limit = 2,\n",
    "            learning_rate= 5e-5,\n",
    "            eval_accumulation_steps=None,\n",
    "            per_device_train_batch_size=2,\n",
    "            per_device_eval_batch_size=4,\n",
    "            weight_decay=0.01,\n",
    "            num_train_epochs=50,\n",
    "            predict_with_generate=True,\n",
    "            generation_max_length=64,\n",
    "            report_to=\"none\",\n",
    "        )"
   ]
  },
  {
   "cell_type": "code",
   "execution_count": 21,
   "metadata": {},
   "outputs": [],
   "source": [
    "trainer = Seq2SeqTrainer(\n",
    "                        model=model,\n",
    "                        args=training_args,\n",
    "                        data_collator=datacollator,\n",
    "                        tokenizer=tokenizer,\n",
    "                        compute_metrics = compute_metrics_rougel\n",
    "    )"
   ]
  },
  {
   "cell_type": "code",
   "execution_count": 22,
   "metadata": {},
   "outputs": [
    {
     "name": "stderr",
     "output_type": "stream",
     "text": [
      "You're using a T5TokenizerFast tokenizer. Please note that with a fast tokenizer, using the `__call__` method is faster than using a method to encode the text followed by a call to the `pad` method to get a padded encoding.\n"
     ]
    },
    {
     "data": {
      "text/html": [],
      "text/plain": [
       "<IPython.core.display.HTML object>"
      ]
     },
     "metadata": {},
     "output_type": "display_data"
    }
   ],
   "source": [
    "predict_results = trainer.predict(test_dataset = data, max_length=64)"
   ]
  },
  {
   "cell_type": "code",
   "execution_count": 24,
   "metadata": {},
   "outputs": [],
   "source": [
    "preds, targets = predict_results.predictions, predict_results.label_ids\n",
    "preds = np.where(preds != -100, preds, tokenizer.pad_token_id)\n",
    "preds = tokenizer.batch_decode(\n",
    "            preds, skip_special_tokens=True, clean_up_tokenization_spaces=True\n",
    "            )\n",
    "targets = tokenizer.batch_decode(\n",
    "            targets, skip_special_tokens=True, clean_up_tokenization_spaces=True\n",
    "            )\n",
    "preds = [pred.strip() for pred in preds]"
   ]
  },
  {
   "cell_type": "code",
   "execution_count": 25,
   "metadata": {},
   "outputs": [],
   "source": [
    "output_data = {\"preds\": preds,\n",
    "                \"labels\": targets}\n",
    "#output_prediction_file = os.path.join(\"Saving\",\"predictions_ans_eval.json\")\n",
    "with open(\"Saving/predictions_ans_eval.json\", \"w\") as writer:\n",
    "        writer.write(json.dumps(output_data, indent=4))"
   ]
  },
  {
   "cell_type": "code",
   "execution_count": 26,
   "metadata": {},
   "outputs": [
    {
     "data": {
      "text/plain": [
       "['Solution: To find the answer, look at the compass rose. Look at which way the north arrow is pointing. West Virginia is farthest north.',\n",
       " 'Solution:',\n",
       " 'Solution:',\n",
       " 'Solution: The text uses apostrophe, a direct address to an absent person or a nonhuman entity. O goddess is a direct address to a goddess, a nonhuman entity.',\n",
       " 'Solution:']"
      ]
     },
     "execution_count": 26,
     "metadata": {},
     "output_type": "execute_result"
    }
   ],
   "source": [
    "targets"
   ]
  }
 ],
 "metadata": {
  "kernelspec": {
   "display_name": "Python 3 (ipykernel)",
   "language": "python",
   "name": "python3"
  },
  "language_info": {
   "codemirror_mode": {
    "name": "ipython",
    "version": 3
   },
   "file_extension": ".py",
   "mimetype": "text/x-python",
   "name": "python",
   "nbconvert_exporter": "python",
   "pygments_lexer": "ipython3",
   "version": "3.9.1"
  }
 },
 "nbformat": 4,
 "nbformat_minor": 2
}
