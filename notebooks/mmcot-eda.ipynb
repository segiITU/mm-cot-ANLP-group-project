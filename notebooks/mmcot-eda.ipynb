{
 "cells": [
  {
   "cell_type": "markdown",
   "metadata": {},
   "source": [
    "This notebook is an Exploraty Data Analysis (EDA) and walkthrough of the pipeline for single items with the mm-cot framework. The framework is presented in the paper \"Multimodal Chain-of-Thought Reasoning in Language Models\"[https://arxiv.org/abs/2302.00923] and the official code here[https://github.com/amazon-science/mm-cot]. \n",
    "\n",
    "This repository includes generated scripts to test the mm-cot model and run a single item through the QA pipeline, and the below is our project group's intitial findings.  "
   ]
  },
  {
   "cell_type": "code",
   "execution_count": null,
   "metadata": {},
   "outputs": [],
   "source": []
  }
 ],
 "metadata": {
  "kernelspec": {
   "display_name": "itu-nlp",
   "language": "python",
   "name": "python3"
  },
  "language_info": {
   "name": "python",
   "version": "3.9.20"
  }
 },
 "nbformat": 4,
 "nbformat_minor": 2
}
